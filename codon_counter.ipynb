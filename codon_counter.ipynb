{
 "cells": [
  {
   "cell_type": "code",
   "execution_count": 1,
   "metadata": {},
   "outputs": [],
   "source": [
    "import pandas as pd\n",
    "\n",
    "\n",
    "from glob import glob\n",
    "from collections import Counter"
   ]
  },
  {
   "cell_type": "code",
   "execution_count": 51,
   "metadata": {},
   "outputs": [],
   "source": [
    "# Data-related vars\n",
    "data_folder = \"./data\"\n",
    "file_name = \"test.txt\"\n",
    "header_length = 1"
   ]
  },
  {
   "cell_type": "code",
   "execution_count": 52,
   "metadata": {},
   "outputs": [],
   "source": [
    "def count_codons(sequence):\n",
    "    # Split sequence in codons\n",
    "    codons = []\n",
    "    pos = 0\n",
    "    print(sequence)\n",
    "    for idx in range(0, len(sequence), 3):\n",
    "        codons.append(sequence[idx:idx+3].upper())\n",
    "        print(idx)\n",
    "        print(sequence[idx:idx+3])\n",
    "    # Count codons\n",
    "    codons_counter = Counter(codons)\n",
    "\n",
    "    # Compute percentages. Round to 4 decimals\n",
    "    codons_percent = dict([\n",
    "        (i, round(codons_counter[i] / (len(sequence)/3) * 100.0, 4))\n",
    "        for i, count in codons_counter.most_common()\n",
    "    ])\n",
    "    \n",
    "    return codons_percent\n"
   ]
  },
  {
   "cell_type": "code",
   "execution_count": 53,
   "metadata": {},
   "outputs": [
    {
     "name": "stdout",
     "output_type": "stream",
     "text": [
      "AAABBBCCCAAAAAABBBAAABBACCCAAB\n",
      "0\n",
      "AAA\n",
      "3\n",
      "BBB\n",
      "6\n",
      "CCC\n",
      "9\n",
      "AAA\n",
      "12\n",
      "AAA\n",
      "15\n",
      "BBB\n",
      "18\n",
      "AAA\n",
      "21\n",
      "BBA\n",
      "24\n",
      "CCC\n",
      "27\n",
      "AAB\n",
      "AAABBBCCCAAAAAABBBAAABBACCCAAB\n",
      "0\n",
      "AAA\n",
      "3\n",
      "BBB\n",
      "6\n",
      "CCC\n",
      "9\n",
      "AAA\n",
      "12\n",
      "AAA\n",
      "15\n",
      "BBB\n",
      "18\n",
      "AAA\n",
      "21\n",
      "BBA\n",
      "24\n",
      "CCC\n",
      "27\n",
      "AAB\n"
     ]
    }
   ],
   "source": [
    "file_position = data_folder + \"/\" + file_name\n",
    "\n",
    "# Read all lines from .txt file\n",
    "with open(file_position, \"r\") as f:\n",
    "    content = f.read().splitlines()\n",
    "    \n",
    "    # Isolate header from content\n",
    "    header = content[:header_length]\n",
    "    sequence = \"\".join(content[header_length:]).upper()\n",
    "\n",
    "# Replace T -> U for RNA codons\n",
    "rna_sequence = sequence.replace(\"T\",\"U\")\n",
    "\n",
    "# Calculate codons percentage\n",
    "codons_percent = count_codons(sequence)\n",
    "codons_rna_percent = count_codons(rna_sequence)\n",
    "\n",
    "# Sort counts alphabetically\n",
    "sorted_codons_percent = dict(sorted(codons_percent.items()))\n",
    "sorted_codons_rna_percent = dict(sorted(codons_rna_percent.items()))"
   ]
  },
  {
   "cell_type": "code",
   "execution_count": 42,
   "metadata": {
    "scrolled": true
   },
   "outputs": [],
   "source": [
    "# Convert counters to DataFrames\n",
    "codons_df = pd.DataFrame.from_dict(codons_percent, orient=\"index\", columns=[\"Percentage\"])\n",
    "codons_sorted_df = pd.DataFrame.from_dict(sorted_codons_percent, orient=\"index\", columns=[\"Percentage\"])\n",
    "codons_rna_df = pd.DataFrame.from_dict(codons_rna_percent, orient=\"index\", columns=[\"Percentage\"])\n",
    "codons_rna_sorted_df = pd.DataFrame.from_dict(sorted_codons_rna_percent, orient=\"index\", columns=[\"Percentage\"])\n",
    "\n",
    "# Create a Pandas Excel writer using XlsxWriter as the engine.\n",
    "output_name = \"CODON_COUNTS_\" + file_name.split(\".txt\")[0] + \".xlsx\"\n",
    "writer = pd.ExcelWriter(output_name, engine='xlsxwriter')\n",
    "\n",
    "# Write each dataframe to a different worksheet.\n",
    "codons_df.to_excel(writer, sheet_name='Codons count')\n",
    "codons_sorted_df.to_excel(writer, sheet_name='Codons count (alphabetical)')\n",
    "codons_rna_df.to_excel(writer, sheet_name='RNA codons count (T -> U)')\n",
    "codons_rna_sorted_df.to_excel(writer, sheet_name='RNA codons count (alphabetical)')\n",
    "\n",
    "# Close the Pandas Excel writer and output the Excel file.\n",
    "writer.save()"
   ]
  },
  {
   "cell_type": "code",
   "execution_count": 46,
   "metadata": {},
   "outputs": [
    {
     "data": {
      "text/plain": [
       "['GAA', 'GAT', 'GCC', 'CGT', 'CAA']"
      ]
     },
     "execution_count": 46,
     "metadata": {},
     "output_type": "execute_result"
    }
   ],
   "source": [
    "list(codons_percent)[0:5]"
   ]
  },
  {
   "cell_type": "code",
   "execution_count": null,
   "metadata": {},
   "outputs": [],
   "source": []
  }
 ],
 "metadata": {
  "kernelspec": {
   "display_name": "Python 3",
   "language": "python",
   "name": "python3"
  },
  "language_info": {
   "codemirror_mode": {
    "name": "ipython",
    "version": 3
   },
   "file_extension": ".py",
   "mimetype": "text/x-python",
   "name": "python",
   "nbconvert_exporter": "python",
   "pygments_lexer": "ipython3",
   "version": "3.7.6"
  }
 },
 "nbformat": 4,
 "nbformat_minor": 4
}
